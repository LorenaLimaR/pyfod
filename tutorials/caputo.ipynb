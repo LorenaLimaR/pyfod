{
 "cells": [
  {
   "cell_type": "markdown",
   "metadata": {},
   "source": [
    "<form action=\"https://nbviewer.jupyter.org/github/prmiles/pyfod/blob/master/tutorials/index.ipynb\">\n",
    "    <input type=\"submit\" value=\"Return to Index\" style=\"background-color: green; color: white; width: 150px; height: 35px; float: right\"/>\n",
    "</form>\n",
    "\n",
    "# Caputo Fractional Derivative\n",
    "\n",
    "Author(s): Graham T. Pash, Paul R. Miles | May 26, 2019\n",
    "\n",
    "The Caputo definition for a fractional derivative with order $\\alpha \\in [0, 1)$ is\n",
    "$$\n",
    "D^\\alpha[f(t)] = \\frac{1}{\\Gamma(1-\\alpha)}\\int_{t_0}^{t}\\frac{f^\\prime(s)}{(t-s)^\\alpha}ds.\n",
    "$$\n",
    "we observe that $D^\\alpha[f(t)]$ by applying a finite-difference scheme to approximate the integer order derivative and applying a quadrature scheme to handle the integration. That is, the Caputo definition can be approximated as:\n",
    "$$\n",
    "D^\\alpha[f(t)] \\approx \\frac{1}{\\Gamma(1-\\alpha)}\\sum\\limits_{j=1}^N\\frac{f(t_j)-f(t_{j-1})}{t_j - t_{j-1}}\\cdot\\frac{1}{(t_j-s)^\\alpha}.\n",
    "$$\n",
    "\n",
    "For details on how this expression is numerically approximated, users are referred to the following publication(s):\n",
    "- Miles, P. R., Pash, G. T., Oates, W. S., Smith, R. C. (2018, September). Numerical Techniques to Model Fractional-Order Nonlinear Viscoelasticity in Soft Elastomers. In ASME 2018 Conference on Smart Materials, Adaptive Structures and Intelligent Systems (pp. V001T03A021). American Society of Mechanical Engineers. http://dx.doi.org/10.1115/SMASIS2018-8102\n",
    "\n",
    "**Note:** This method is currently limited for problems where the fractional order is $\\alpha \\in [0,1)$."
   ]
  },
  {
   "cell_type": "markdown",
   "metadata": {},
   "source": [
    "# Example:\n",
    "We consider the function\n",
    "$$f(t) = \\exp(2t)$$"
   ]
  },
  {
   "cell_type": "code",
   "execution_count": 1,
   "metadata": {},
   "outputs": [],
   "source": [
    "import numpy as np\n",
    "def f(t):\n",
    "    return np.exp(2*t)"
   ]
  },
  {
   "cell_type": "markdown",
   "metadata": {},
   "source": [
    "where $t \\in [0, 1]$ and $\\alpha = 0.9$.  Using [Mathematica](https://www.wolfram.com/mathematica/), we find that\n",
    "$$\n",
    "\\frac{1}{\\Gamma(1-0.9)}\\int_0^1\\frac{\\frac{d}{dt}\\exp(2s)}{(1-s)^{0.9}}ds = \\frac{1}{\\Gamma(1-0.9)}\\int_0^1\\frac{2\\exp(2s)}{(1-s)^{0.9}}ds = 13.7102.\n",
    "$$\n",
    "**Note**: The Riemann-Liouville and Caputo definitions of the fractional derivative are equivalent only under certain conditions. Thus, for the same test function, we obtain a different value.\n",
    "\n",
    "The user may select from any of the quadrature methods available in `pyfod`. For this example, a Riemann-Sum quadrature scheme is employed."
   ]
  },
  {
   "cell_type": "code",
   "execution_count": 2,
   "metadata": {},
   "outputs": [
    {
     "name": "stdout",
     "output_type": "stream",
     "text": [
      "D^0.9[exp(2t)] = 11.237433548776709\n"
     ]
    }
   ],
   "source": [
    "from pyfod.fod import caputo\n",
    "alpha = 0.9\n",
    "out = caputo(f=f, alpha=alpha, lower=0, upper=1, quadrature='rs')\n",
    "print('D^{}[exp(2t)] = {}'.format(alpha, out['fd']))"
   ]
  },
  {
   "cell_type": "markdown",
   "metadata": {},
   "source": [
    "This is a poor approximation of the fractional derivative.  To improve the approximation, we can increase the grid-resolution of the quadrature method."
   ]
  },
  {
   "cell_type": "code",
   "execution_count": 3,
   "metadata": {},
   "outputs": [
    {
     "name": "stdout",
     "output_type": "stream",
     "text": [
      "Convergence using Gauss-Legendre quadrature:\n",
      "n = 8, D^0.9[exp(2t)] = 12.298395538265186\n",
      "n = 16, D^0.9[exp(2t)] = 13.073968990978361\n",
      "n = 32, D^0.9[exp(2t)] = 13.417767556595134\n",
      "n = 64, D^0.9[exp(2t)] = 13.574199254577481\n",
      "n = 128, D^0.9[exp(2t)] = 13.646294966078516\n",
      "n = 256, D^0.9[exp(2t)] = 13.679730777857426\n",
      "n = 512, D^0.9[exp(2t)] = 13.695284637679043\n",
      "n = 1024, D^0.9[exp(2t)] = 13.702530788775583\n"
     ]
    }
   ],
   "source": [
    "from time import time\n",
    "\n",
    "gs = 2**np.arange(3, 11, 1)\n",
    "exact = 13.7102\n",
    "fd = []\n",
    "error = []\n",
    "runtime = []\n",
    "nruns = 100\n",
    "print('Convergence using Gauss-Legendre quadrature:')\n",
    "for n in gs:\n",
    "    st = time()\n",
    "    for ii in range(nruns):\n",
    "        if ii == 0:\n",
    "            fd.append(caputo(f=f, alpha=0.9, lower=0, upper=1, quadrature='rs', n=n)['fd'])\n",
    "        else:\n",
    "            caputo(f=f, alpha=0.9, lower=0, upper=1, quadrature='rs', n=n)\n",
    "    et = time()\n",
    "    error.append(np.abs((exact - fd[-1]))/exact)\n",
    "    runtime.append((et - st)/nruns)\n",
    "    print('n = {}, D^{}[exp(2t)] = {}'.format(n, alpha, fd[-1]))\n",
    "\n",
    "# store output\n",
    "out = dict(rs=dict(gs=gs, fd=np.array(fd), error=np.array(error),\n",
    "                   runtime=np.array(runtime),\n",
    "                   plot=dict(marker='s', color='r', linewidth=2,\n",
    "                            markersize=10, mfc='none',\n",
    "                            label='Riemann-Sum')))"
   ]
  }
 ],
 "metadata": {
  "kernelspec": {
   "display_name": "pyfod",
   "language": "python",
   "name": "pyfod"
  },
  "language_info": {
   "codemirror_mode": {
    "name": "ipython",
    "version": 3
   },
   "file_extension": ".py",
   "mimetype": "text/x-python",
   "name": "python",
   "nbconvert_exporter": "python",
   "pygments_lexer": "ipython3",
   "version": "3.6.7"
  }
 },
 "nbformat": 4,
 "nbformat_minor": 2
}

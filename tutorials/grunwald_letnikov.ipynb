{
 "cells": [
  {
   "cell_type": "markdown",
   "metadata": {},
   "source": [
    "<form action=\"https://nbviewer.jupyter.org/github/prmiles/pyfod/blob/master/tutorials/index.ipynb\">\n",
    "    <input type=\"submit\" value=\"Return to Index\" style=\"background-color: green; color: white; width: 150px; height: 35px; float: right\"/>\n",
    "</form>\n",
    "\n",
    "# Grunwald-Letnikov Fractional Derivative\n",
    "\n",
    "Author(s): Graham T. Pash, Paul R. Miles | June 1, 2019\n",
    "\n",
    "The Grunwald-Letnikov  definition for a fractional derivative is\n",
    "$$\n",
    "D^\\alpha [f(t)]=\\lim_{h\\rightarrow 0}\\frac{1}{h^\\alpha}\\sum_{0\\leq m< \\infty}(-1)^m{\\scriptsize\\left(\\begin{array}{c}\\alpha\\\\m\\end{array}\\right)}f(t-mh).\n",
    "$$\n",
    "The previous definition is sometimes referred to as the \"reverse\" definition due to the backward time stepping scheme. An equivalent definition is:\n",
    "$$\n",
    "D^\\alpha [f(t)]=\\lim_{h\\rightarrow 0}\\frac{1}{h^\\alpha}\\sum_{0\\leq m< \\infty}(-1)^m{\\scriptsize\\left(\\begin{array}{c}\\alpha\\\\m\\end{array}\\right)}f(x+(\\alpha - m)h).\n",
    "$$\n",
    "This \"reverse\" definition is implemented in ``pyfod`` and is numerically approximated by truncating the infinite sum. Users are reffered to the publications:\n",
    "- Miles, P. R., Pash, G. T., Oates, W. S., Smith, R. C. (2018, September). Numerical Techniques to Model Fractional-Order Nonlinear Viscoelasticity in Soft Elastomers. In ASME 2018 Conference on Smart Materials, Adaptive Structures and Intelligent Systems (pp. V001T03A021). American Society of Mechanical Engineers. http://dx.doi.org/10.1115/SMASIS2018-8102\n",
    "\n",
    "- Oldham, K., & Spanier, J. (1974). The fractional calculus theory and applications of differentiation and integration to arbitrary order (Vol. 111). Elsevier.\n",
    "\n",
    "**Note:** This method has not been tested for fractional orders outside of the range $\\alpha \\in [0,1)$."
   ]
  },
  {
   "cell_type": "markdown",
   "metadata": {},
   "source": [
    "# Example:\n",
    "We consider the function\n",
    "$$f(t) = \\exp(2t)$$"
   ]
  },
  {
   "cell_type": "code",
   "execution_count": 1,
   "metadata": {},
   "outputs": [],
   "source": [
    "import numpy as np\n",
    "def f(t):\n",
    "    return np.exp(2*t)"
   ]
  },
  {
   "cell_type": "markdown",
   "metadata": {},
   "source": [
    "where $t \\in [0, 1]$ and $\\alpha = 0.9$. Since the Grunwald-Letnikove is theoretically equivalent to the Riemann-Liouville definition, we know that the expected value is\n",
    "$$\n",
    "D^\\alpha [f(t)] = 13.8153.\n",
    "$$"
   ]
  },
  {
   "cell_type": "code",
   "execution_count": 2,
   "metadata": {},
   "outputs": [
    {
     "name": "stdout",
     "output_type": "stream",
     "text": [
      "D^0.9[exp(2t)] = 13.6926775019973\n"
     ]
    }
   ],
   "source": [
    "from pyfod.fod import grunwaldletnikov\n",
    "alpha = 0.9\n",
    "out = grunwaldletnikov(f=f, alpha=alpha, lower=0, upper=1)\n",
    "print('D^{}[exp(2t)] = {}'.format(alpha, out['fd']))"
   ]
  },
  {
   "cell_type": "markdown",
   "metadata": {},
   "source": [
    "This is already a good approximation to the fractional derivative. However, including more terms before truncation will lead to an even better approximation, as we find below."
   ]
  },
  {
   "cell_type": "code",
   "execution_count": 3,
   "metadata": {},
   "outputs": [
    {
     "name": "stdout",
     "output_type": "stream",
     "text": [
      "Convergence using Grunwald-Letnikov:\n",
      "n = 8, D^0.9[exp(2t)] = 12.3868223342312\n",
      "n = 16, D^0.9[exp(2t)] = 13.0732510613288\n",
      "n = 32, D^0.9[exp(2t)] = 13.4370503242224\n",
      "n = 64, D^0.9[exp(2t)] = 13.6243484503915\n",
      "n = 128, D^0.9[exp(2t)] = 13.7193801839390\n",
      "n = 256, D^0.9[exp(2t)] = 13.7672459464273\n",
      "n = 512, D^0.9[exp(2t)] = 13.7912668362801\n"
     ]
    }
   ],
   "source": [
    "from time import time\n",
    "\n",
    "ns = 2**np.arange(3, 10, 1)\n",
    "exact = 13.8153\n",
    "fd = []\n",
    "nruns = 100\n",
    "print('Convergence using Grunwald-Letnikov:')\n",
    "for n in ns:\n",
    "    st = time()\n",
    "    for ii in range(nruns):\n",
    "        if ii == 0:\n",
    "            fd.append(grunwaldletnikov(f=f, alpha=0.9, lower=0, upper=1, n=n)['fd'])\n",
    "        else:\n",
    "            grunwaldletnikov(f=f, alpha=0.9, lower=0, upper=1, n=n)\n",
    "    print('n = {}, D^{}[exp(2t)] = {}'.format(n, alpha, fd[-1]))"
   ]
  },
  {
   "cell_type": "code",
   "execution_count": null,
   "metadata": {},
   "outputs": [],
   "source": []
  }
 ],
 "metadata": {
  "kernelspec": {
   "display_name": "pyfod",
   "language": "python",
   "name": "pyfod"
  },
  "language_info": {
   "codemirror_mode": {
    "name": "ipython",
    "version": 3
   },
   "file_extension": ".py",
   "mimetype": "text/x-python",
   "name": "python",
   "nbconvert_exporter": "python",
   "pygments_lexer": "ipython3",
   "version": "3.6.7"
  }
 },
 "nbformat": 4,
 "nbformat_minor": 2
}
